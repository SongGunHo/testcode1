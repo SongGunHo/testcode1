{
 "cells": [
  {
   "cell_type": "code",
   "execution_count": 2,
   "id": "0dffad7d",
   "metadata": {},
   "outputs": [
    {
     "name": "stdout",
     "output_type": "stream",
     "text": [
      "Requirement already satisfied: keras in c:\\users\\ghson\\onedrive\\바탕 화면\\testcode\\머신 러닝\\source\\.venv\\lib\\site-packages (3.10.0)\n",
      "Requirement already satisfied: absl-py in c:\\users\\ghson\\onedrive\\바탕 화면\\testcode\\머신 러닝\\source\\.venv\\lib\\site-packages (from keras) (2.3.0)\n",
      "Requirement already satisfied: numpy in c:\\users\\ghson\\onedrive\\바탕 화면\\testcode\\머신 러닝\\source\\.venv\\lib\\site-packages (from keras) (2.1.3)\n",
      "Requirement already satisfied: rich in c:\\users\\ghson\\onedrive\\바탕 화면\\testcode\\머신 러닝\\source\\.venv\\lib\\site-packages (from keras) (14.0.0)\n",
      "Requirement already satisfied: namex in c:\\users\\ghson\\onedrive\\바탕 화면\\testcode\\머신 러닝\\source\\.venv\\lib\\site-packages (from keras) (0.1.0)\n",
      "Requirement already satisfied: h5py in c:\\users\\ghson\\onedrive\\바탕 화면\\testcode\\머신 러닝\\source\\.venv\\lib\\site-packages (from keras) (3.14.0)\n",
      "Requirement already satisfied: optree in c:\\users\\ghson\\onedrive\\바탕 화면\\testcode\\머신 러닝\\source\\.venv\\lib\\site-packages (from keras) (0.16.0)\n",
      "Requirement already satisfied: ml-dtypes in c:\\users\\ghson\\onedrive\\바탕 화면\\testcode\\머신 러닝\\source\\.venv\\lib\\site-packages (from keras) (0.5.1)\n",
      "Requirement already satisfied: packaging in c:\\users\\ghson\\onedrive\\바탕 화면\\testcode\\머신 러닝\\source\\.venv\\lib\\site-packages (from keras) (25.0)\n",
      "Requirement already satisfied: typing-extensions>=4.6.0 in c:\\users\\ghson\\onedrive\\바탕 화면\\testcode\\머신 러닝\\source\\.venv\\lib\\site-packages (from optree->keras) (4.13.2)\n",
      "Requirement already satisfied: markdown-it-py>=2.2.0 in c:\\users\\ghson\\onedrive\\바탕 화면\\testcode\\머신 러닝\\source\\.venv\\lib\\site-packages (from rich->keras) (3.0.0)\n",
      "Requirement already satisfied: pygments<3.0.0,>=2.13.0 in c:\\users\\ghson\\onedrive\\바탕 화면\\testcode\\머신 러닝\\source\\.venv\\lib\\site-packages (from rich->keras) (2.19.1)\n",
      "Requirement already satisfied: mdurl~=0.1 in c:\\users\\ghson\\onedrive\\바탕 화면\\testcode\\머신 러닝\\source\\.venv\\lib\\site-packages (from markdown-it-py>=2.2.0->rich->keras) (0.1.2)\n"
     ]
    }
   ],
   "source": [
    "!pip install keras"
   ]
  },
  {
   "cell_type": "code",
   "execution_count": 4,
   "id": "dcd83e6d",
   "metadata": {},
   "outputs": [],
   "source": [
    "import keras\n",
    "model = keras.models.load_model('best-cnn-model.keras')"
   ]
  },
  {
   "cell_type": "code",
   "execution_count": 5,
   "id": "697a56ee",
   "metadata": {},
   "outputs": [
    {
     "data": {
      "text/plain": [
       "[<Conv2D name=conv2d, built=True>,\n",
       " <MaxPooling2D name=max_pooling2d, built=True>,\n",
       " <Conv2D name=conv2d_1, built=True>,\n",
       " <MaxPooling2D name=max_pooling2d_1, built=True>,\n",
       " <Flatten name=flatten, built=True>,\n",
       " <Dense name=dense, built=True>,\n",
       " <Dropout name=dropout, built=True>,\n",
       " <Dense name=dense_1, built=True>]"
      ]
     },
     "execution_count": 5,
     "metadata": {},
     "output_type": "execute_result"
    }
   ],
   "source": [
    "# 층의 정보 \n",
    "model.layers"
   ]
  },
  {
   "cell_type": "code",
   "execution_count": 8,
   "id": "fae959ec",
   "metadata": {},
   "outputs": [
    {
     "name": "stdout",
     "output_type": "stream",
     "text": [
      "(3, 3, 1, 32)\n",
      "(32,)\n"
     ]
    }
   ],
   "source": [
    "\n",
    "conv = model.layers[0]\n",
    "print(conv.weights[0].shape) # 가중치 \n",
    "print(conv.weights[1].shape) # 절편"
   ]
  },
  {
   "cell_type": "code",
   "execution_count": 10,
   "id": "a506f7a0",
   "metadata": {},
   "outputs": [
    {
     "name": "stdout",
     "output_type": "stream",
     "text": [
      "평균: -0.017272748 0.22382684\n"
     ]
    }
   ],
   "source": [
    "# 가중치의 평균 표준편차 \n",
    "conv_weights = conv.weights[0].numpy()\n",
    "print(\"평균:\", conv_weights.mean(), conv_weights.std())"
   ]
  },
  {
   "cell_type": "code",
   "execution_count": 15,
   "id": "e777acdc",
   "metadata": {},
   "outputs": [
    {
     "data": {
      "image/png": "[encoded data removed]",
      "text/plain": [
       "<Figure size 640x480 with 1 Axes>"
      ]
     },
     "metadata": {},
     "output_type": "display_data"
    }
   ],
   "source": [
    "import matplotlib.pyplot as plt\n",
    "\n",
    "plt.hist(conv_weights.reshape(-1, 1))\n",
    "plt.xlabel(\"weigth\")\n",
    "plt.ylabel(\"count\")\n",
    "plt.show()"
   ]
  },
  {
   "cell_type": "code",
   "execution_count": 18,
   "id": "084eeb98",
   "metadata": {},
   "outputs": [
    {
     "data": {
      "image/png": "[encoded data removed]",
      "text/plain": [
       "<Figure size 1200x200 with 32 Axes>"
      ]
     },
     "metadata": {},
     "output_type": "display_data"
    }
   ],
   "source": [
    "# 가중치 시각화 \n",
    "_, axs = plt.subplots(2, 16, figsize=(12, 2))\n",
    "for i in range(2): # 0, 1\n",
    "    for j in range(16):\n",
    "        cols = i * 16 + j\n",
    "        axs[i, j].imshow(conv_weights[:,:,0, cols], vmin=-0.5, vmax=0.5)\n",
    "        axs[i, j].axis('off')\n",
    "plt.show()"
   ]
  },
  {
   "cell_type": "code",
   "execution_count": null,
   "id": "840606bd",
   "metadata": {},
   "outputs": [],
   "source": []
  },
  {
   "cell_type": "code",
   "execution_count": null,
   "id": "4247e6fe",
   "metadata": {},
   "outputs": [],
   "source": [
    "# 학습 하지 않는 비 모델 \n",
    "no_train_model = keras.Sequential()\n",
    "no.train_model.add(keras.layers.Input(shape=(28* 28 *1)))\n",
    "feature_maps = conv_fm1"
   ]
  }
 ],
 "metadata": {
  "kernelspec": {
   "display_name": ".venv",
   "language": "python",
   "name": "python3"
  },
  "language_info": {
   "codemirror_mode": {
    "name": "ipython",
    "version": 3
   },
   "file_extension": ".py",
   "mimetype": "text/x-python",
   "name": "python",
   "nbconvert_exporter": "python",
   "pygments_lexer": "ipython3",
   "version": "3.12.10"
  }
 },
 "nbformat": 4,
 "nbformat_minor": 5
}
